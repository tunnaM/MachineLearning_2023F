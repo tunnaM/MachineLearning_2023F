{
 "cells": [
  {
   "cell_type": "markdown",
   "id": "2888037f",
   "metadata": {},
   "source": [
    "# 1. 数据导入"
   ]
  },
  {
   "cell_type": "code",
   "execution_count": 1,
   "id": "f30c7d6b",
   "metadata": {},
   "outputs": [],
   "source": [
    "import pandas as pd\n",
    "filepath1=\"train.csv\"\n",
    "filepath2=\"test.csv\"\n",
    "data_train = pd.read_csv(filepath1)\n",
    "data_test = pd.read_csv(filepath2)"
   ]
  },
  {
   "cell_type": "markdown",
   "id": "18d6fe2a",
   "metadata": {},
   "source": [
    "# 2. 类型转变"
   ]
  },
  {
   "cell_type": "code",
   "execution_count": 2,
   "id": "dc1f1fcd",
   "metadata": {},
   "outputs": [],
   "source": [
    "data_train.loc[data_train[data_train.is_married == 'married'].index.tolist(),'is_married'] = 0\n",
    "data_train.loc[data_train[data_train.is_married == 'single'].index.tolist(),'is_married'] = 1\n",
    "data_train.loc[data_train[data_train.house_ownership == 'norent_noown'].index.tolist(),'house_ownership'] = 0\n",
    "data_train.loc[data_train[data_train.house_ownership == 'owned'].index.tolist(),'house_ownership'] = 1\n",
    "data_train.loc[data_train[data_train.house_ownership == 'rented'].index.tolist(),'house_ownership'] = 2\n",
    "data_train.loc[data_train[data_train.car_ownership == 'no'].index.tolist(),'car_ownership'] = 0\n",
    "data_train.loc[data_train[data_train.car_ownership == 'yes'].index.tolist(),'car_ownership'] = 1\n",
    "\n",
    "data_test.loc[data_test[data_test.is_married == 'married'].index.tolist(),'is_married'] = 0\n",
    "data_test.loc[data_test[data_test.is_married == 'single'].index.tolist(),'is_married'] = 1\n",
    "data_test.loc[data_test[data_test.house_ownership == 'norent_noown'].index.tolist(),'house_ownership'] = 0\n",
    "data_test.loc[data_test[data_test.house_ownership == 'owned'].index.tolist(),'house_ownership'] = 1\n",
    "data_test.loc[data_test[data_test.house_ownership == 'rented'].index.tolist(),'house_ownership'] = 2\n",
    "data_test.loc[data_test[data_test.car_ownership == 'no'].index.tolist(),'car_ownership'] = 0\n",
    "data_test.loc[data_test[data_test.car_ownership == 'yes'].index.tolist(),'car_ownership'] = 1\n"
   ]
  },
  {
   "cell_type": "code",
   "execution_count": 3,
   "id": "f58e6b49",
   "metadata": {},
   "outputs": [],
   "source": [
    "a = ['income','age','experience_years','is_married','city','region','current_job_years',\n",
    "     'current_house_years','house_ownership','car_ownership','profession']\n",
    "X_train = data_train[a]\n",
    "y_train = data_train['label'].astype(int)\n",
    "X_test = data_test[a]\n",
    "y_test = data_test['label'].astype(int)"
   ]
  },
  {
   "cell_type": "markdown",
   "id": "371b135a",
   "metadata": {},
   "source": [
    "# 3. Catboost模型"
   ]
  },
  {
   "cell_type": "code",
   "execution_count": 4,
   "id": "1d2322e4",
   "metadata": {},
   "outputs": [],
   "source": [
    "from sklearn.model_selection import StratifiedKFold\n",
    "cat_params = {'learning_rate': 0.1, \n",
    "              'depth': 9, \n",
    "              'l2_leaf_reg': 10, \n",
    "              'bootstrap_type': 'Bernoulli',\n",
    "              'od_type': 'Iter', \n",
    "              'od_wait': 50,  \n",
    "              'allow_writing_files': False}\n",
    "folds = StratifiedKFold(n_splits=5, shuffle=True)"
   ]
  },
  {
   "cell_type": "code",
   "execution_count": 5,
   "id": "66c84bfa",
   "metadata": {},
   "outputs": [
    {
     "name": "stdout",
     "output_type": "stream",
     "text": [
      "Fold 1\n",
      "[0.9224975053919032]\n",
      "Fold 2\n",
      "[0.9224975053919032, 0.913701103783289]\n",
      "Fold 3\n",
      "[0.9224975053919032, 0.913701103783289, 0.9188366497992926]\n",
      "Fold 4\n",
      "[0.9224975053919032, 0.913701103783289, 0.9188366497992926, 0.924676226236075]\n",
      "Fold 5\n",
      "[0.9224975053919032, 0.913701103783289, 0.9188366497992926, 0.924676226236075, 0.9216918398255385]\n",
      "CV mean score: 0.9203, std: 0.0038.\n"
     ]
    }
   ],
   "source": [
    "import numpy as np\n",
    "from catboost import CatBoostClassifier\n",
    "from sklearn import metrics\n",
    "n_splits = 5\n",
    "num_classes = 2\n",
    "verbose = 1\n",
    "splits = folds.split(X_train, y_train) \n",
    "columns = X_train.columns\n",
    "prediction = np.zeros(shape=(len(X_test), num_classes))\n",
    "valid_auc_scores = []\n",
    "for fold_n, (train_index, valid_index) in enumerate(splits):\n",
    "        if verbose:\n",
    "            print(f'Fold {fold_n + 1}')\n",
    "        \n",
    "        X_train_train, X_valid = X_train[columns].iloc[train_index], X_train[columns].iloc[valid_index]\n",
    "        y_train_train, y_valid = y_train.iloc[train_index], y_train.iloc[valid_index]\n",
    "        \n",
    "        model = CatBoostClassifier(iterations=20000, \n",
    "                                   eval_metric='Logloss',\n",
    "                                   **cat_params,\n",
    "                                   loss_function='Logloss')\n",
    "        model.fit(X_train_train, y_train_train, eval_set=(X_valid, y_valid), cat_features=[], use_best_model=True,\n",
    "                  verbose=False)\n",
    "\n",
    "        y_pred_valid = model.predict_proba(X_valid)\n",
    "        y_pred = model.predict_proba(X_test)\n",
    "\n",
    "        valid_auc_scores.append(\n",
    "            metrics.roc_auc_score(y_valid, y_pred_valid[:,1]))\n",
    "        print(valid_auc_scores)\n",
    "        prediction += y_pred\n",
    "prediction /= n_splits\n",
    "print('CV mean score: {0:.4f}, std: {1:.4f}.'.format(np.mean(valid_auc_scores), np.std(valid_auc_scores)))"
   ]
  },
  {
   "cell_type": "code",
   "execution_count": 7,
   "id": "5efdaaf4",
   "metadata": {},
   "outputs": [],
   "source": [
    "df = pd.DataFrame(data=prediction[:, 1], \n",
    "                  columns=['prediction'])\n",
    "df[['prediction']].to_csv('cat.csv', index=None)"
   ]
  },
  {
   "cell_type": "code",
   "execution_count": 8,
   "id": "a4211317",
   "metadata": {},
   "outputs": [
    {
     "data": {
      "text/plain": [
       "<BarContainer object of 11 artists>"
      ]
     },
     "execution_count": 8,
     "metadata": {},
     "output_type": "execute_result"
    },
    {
     "data": {
      "image/png": "[encoded data removed]",
      "text/plain": [
       "<Figure size 720x720 with 1 Axes>"
      ]
     },
     "metadata": {
      "needs_background": "light"
     },
     "output_type": "display_data"
    }
   ],
   "source": [
    "import matplotlib.pyplot as plt \n",
    "fea_ = model.feature_importances_\n",
    "fea_name = model.feature_names_\n",
    "plt.figure(figsize=(10, 10))\n",
    "plt.barh(fea_name,fea_,height =0.5)"
   ]
  }
 ],
 "metadata": {
  "kernelspec": {
   "display_name": "graph",
   "language": "python",
   "name": "python3"
  },
  "language_info": {
   "codemirror_mode": {
    "name": "ipython",
    "version": 3
   },
   "file_extension": ".py",
   "mimetype": "text/x-python",
   "name": "python",
   "nbconvert_exporter": "python",
   "pygments_lexer": "ipython3",
   "version": "3.8.8 (default, Apr 13 2021, 15:08:03) [MSC v.1916 64 bit (AMD64)]"
  },
  "vscode": {
   "interpreter": {
    "hash": "16aa9b2f0964463c55382baaf988c0dc228dd1c6b19a8e6e00be71bd80311881"
   }
  }
 },
 "nbformat": 4,
 "nbformat_minor": 5
}
